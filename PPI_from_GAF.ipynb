{
 "cells": [
  {
   "cell_type": "markdown",
   "metadata": {},
   "source": [
    "## Extracting interaction data from GO associations\n",
    "\n",
    "GO is not an interaction database. However, for some groups, GO provides additional information in protein binding annotations about the binding partner. This notebook provides an example of how to do this.\n",
    "\n",
    "Please note that for PPI data you are likely better off using a dedicated PPI database. This notebook is primarily intended as illustrative of how to use to use the ontobio library to perform operations on gene product associations."
   ]
  },
  {
   "cell_type": "code",
   "execution_count": 1,
   "metadata": {},
   "outputs": [
    {
     "name": "stderr",
     "output_type": "stream",
     "text": [
      "/Users/cjm/repos/go-notebooks/venv/lib/python3.5/site-packages/cachier/mongo_core.py:24: UserWarning: Cachier warning: pymongo was not found. MongoDB cores will not work.\n",
      "  \"Cachier warning: pymongo was not found. MongoDB cores will not work.\")\n"
     ]
    }
   ],
   "source": [
    "from ontobio import OntologyFactory\n",
    "ofa = OntologyFactory()\n",
    "ont = ofa.create('go')\n"
   ]
  },
  {
   "cell_type": "code",
   "execution_count": 2,
   "metadata": {
    "collapsed": true
   },
   "outputs": [],
   "source": [
    "# make sub-ontology with only isa/part-of\n",
    "gobasic = ont.subontology(relations=['subClassOf', 'BFO:0000050'])"
   ]
  },
  {
   "cell_type": "code",
   "execution_count": 3,
   "metadata": {},
   "outputs": [
    {
     "data": {
      "text/plain": [
       "'GO:0005515'"
      ]
     },
     "execution_count": 3,
     "metadata": {},
     "output_type": "execute_result"
    }
   ],
   "source": [
    "[pb] = ont.search('protein binding')\n",
    "pb"
   ]
  },
  {
   "cell_type": "code",
   "execution_count": 6,
   "metadata": {},
   "outputs": [],
   "source": [
    "from ontobio.assoc_factory import AssociationSetFactory\n",
    "afa = AssociationSetFactory()\n",
    "url = \"http://geneontology.org/gene-associations/goa_human.gaf.gz\"\n",
    "\n",
    "aset = afa.create_from_gaf(url, ontology=gobasic, skim=False)"
   ]
  },
  {
   "cell_type": "code",
   "execution_count": 8,
   "metadata": {},
   "outputs": [
    {
     "data": {
      "text/plain": [
       "11060"
      ]
     },
     "execution_count": 8,
     "metadata": {},
     "output_type": "execute_result"
    }
   ],
   "source": [
    "gps_to_pb = aset.query([pb])\n",
    "len(gps_to_pb)"
   ]
  },
  {
   "cell_type": "code",
   "execution_count": null,
   "metadata": {
    "collapsed": true
   },
   "outputs": [],
   "source": [
    " "
   ]
  },
  {
   "cell_type": "code",
   "execution_count": 17,
   "metadata": {},
   "outputs": [],
   "source": [
    "pairs = set()\n",
    "for gp in aset.subjects:\n",
    "    for a in aset.associations(gp):\n",
    "        if pb in gobasic.ancestors(a['object']['id'], reflexive=True):\n",
    "            for w in a['evidence']['with_support_from']:\n",
    "                pairs.add( (a['subject']['id'],w) )"
   ]
  },
  {
   "cell_type": "code",
   "execution_count": 18,
   "metadata": {},
   "outputs": [
    {
     "data": {
      "text/plain": [
       "66657"
      ]
     },
     "execution_count": 18,
     "metadata": {},
     "output_type": "execute_result"
    }
   ],
   "source": [
    "len(pairs)"
   ]
  },
  {
   "cell_type": "code",
   "execution_count": 19,
   "metadata": {},
   "outputs": [
    {
     "data": {
      "text/plain": [
       "[('UniProtKB:P40763', 'UniProtKB:P25791'),\n",
       " ('UniProtKB:P24863', 'UniProtKB:O75528'),\n",
       " ('UniProtKB:P0CG47', 'UniProtKB:P33993'),\n",
       " ('UniProtKB:Q86VI1', 'PANTHER:PTN000480155'),\n",
       " ('UniProtKB:P31785', 'UniProtKB:Q7Z3S9'),\n",
       " ('UniProtKB:Q7Z3S9', 'UniProtKB:Q9NQS3'),\n",
       " ('UniProtKB:Q8N9N5', 'UniProtKB:Q8IYR0'),\n",
       " ('UniProtKB:P48552', 'UniProtKB:P49116'),\n",
       " ('UniProtKB:P35625', 'UniProtKB:P50052'),\n",
       " ('UniProtKB:O15379', 'UniProtKB:P54253'),\n",
       " ('UniProtKB:P18206', 'UniProtKB:P12003'),\n",
       " ('UniProtKB:Q8TBB1', 'UniProtKB:Q719H9'),\n",
       " ('UniProtKB:Q9Y2W2', 'UniProtKB:Q99IB8:PRO_0000045603'),\n",
       " ('UniProtKB:Q96BZ8', 'UniProtKB:Q15323'),\n",
       " ('UniProtKB:P04155', 'UniProtKB:Q9UMX0'),\n",
       " ('UniProtKB:P01106', 'UniProtKB:Q969H0'),\n",
       " ('UniProtKB:Q8IXJ6', 'UniProtKB:O60729'),\n",
       " ('UniProtKB:Q9NX70', 'UniProtKB:Q9H944'),\n",
       " ('UniProtKB:Q9UQL6', 'UniProtKB:Q8TBE0'),\n",
       " ('UniProtKB:Q09161', 'UniProtKB:P52298,UniProtKB:Q6P2Q9')]"
      ]
     },
     "execution_count": 19,
     "metadata": {},
     "output_type": "execute_result"
    }
   ],
   "source": [
    "list(pairs)[0:20]"
   ]
  },
  {
   "cell_type": "code",
   "execution_count": 20,
   "metadata": {},
   "outputs": [
    {
     "data": {
      "text/plain": [
       "[('UniProtKB:P40763', 'STAT3', 'UniProtKB:P25791', 'LMO2'),\n",
       " ('UniProtKB:P24863', 'CCNC', 'UniProtKB:O75528', 'TADA3'),\n",
       " ('UniProtKB:P0CG47', 'UBB', 'UniProtKB:P33993', 'MCM7'),\n",
       " ('UniProtKB:Q86VI1', 'EXOC3L1', 'PANTHER:PTN000480155', None),\n",
       " ('UniProtKB:P31785', 'IL2RG', 'UniProtKB:Q7Z3S9', 'NOTCH2NL'),\n",
       " ('UniProtKB:Q7Z3S9', 'NOTCH2NL', 'UniProtKB:Q9NQS3', 'NECTIN3'),\n",
       " ('UniProtKB:Q8N9N5', 'BANP', 'UniProtKB:Q8IYR0', 'CFAP206'),\n",
       " ('UniProtKB:P48552', 'NRIP1', 'UniProtKB:P49116', 'NR2C2'),\n",
       " ('UniProtKB:P35625', 'TIMP3', 'UniProtKB:P50052', 'AGTR2'),\n",
       " ('UniProtKB:O15379', 'HDAC3', 'UniProtKB:P54253', 'ATXN1'),\n",
       " ('UniProtKB:P18206', 'VCL', 'UniProtKB:P12003', None),\n",
       " ('UniProtKB:Q8TBB1', 'LNX1', 'UniProtKB:Q719H9', 'KCTD1'),\n",
       " ('UniProtKB:Q9Y2W2', 'WBP11', 'UniProtKB:Q99IB8:PRO_0000045603', None),\n",
       " ('UniProtKB:Q96BZ8', 'LENG1', 'UniProtKB:Q15323', 'KRT31'),\n",
       " ('UniProtKB:P04155', 'TFF1', 'UniProtKB:Q9UMX0', 'UBQLN1'),\n",
       " ('UniProtKB:P01106', 'MYC', 'UniProtKB:Q969H0', 'FBXW7'),\n",
       " ('UniProtKB:Q8IXJ6', 'SIRT2', 'UniProtKB:O60729', 'CDC14B'),\n",
       " ('UniProtKB:Q9NX70', 'MED29', 'UniProtKB:Q9H944', 'MED20'),\n",
       " ('UniProtKB:Q9UQL6', 'HDAC5', 'UniProtKB:Q8TBE0', 'BAHD1'),\n",
       " ('UniProtKB:Q09161', 'NCBP1', 'UniProtKB:P52298,UniProtKB:Q6P2Q9', None)]"
      ]
     },
     "execution_count": 20,
     "metadata": {},
     "output_type": "execute_result"
    }
   ],
   "source": [
    "[(g1,aset.label(g1),g2,aset.label(g2)) for (g1,g2) in list(pairs)[0:20]]"
   ]
  },
  {
   "cell_type": "code",
   "execution_count": null,
   "metadata": {
    "collapsed": true
   },
   "outputs": [],
   "source": []
  }
 ],
 "metadata": {
  "kernelspec": {
   "display_name": "Python 3",
   "language": "python",
   "name": "python3"
  },
  "language_info": {
   "codemirror_mode": {
    "name": "ipython",
    "version": 3
   },
   "file_extension": ".py",
   "mimetype": "text/x-python",
   "name": "python",
   "nbconvert_exporter": "python",
   "pygments_lexer": "ipython3",
   "version": "3.5.2"
  }
 },
 "nbformat": 4,
 "nbformat_minor": 2
}
