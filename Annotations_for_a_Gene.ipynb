{
 "cells": [
  {
   "cell_type": "markdown",
   "metadata": {},
   "source": [
    "## Basic querying of PO\n",
    "\n"
   ]
  },
  {
   "cell_type": "code",
   "execution_count": 3,
   "metadata": {},
   "outputs": [],
   "source": [
    "## Create an ontology factory and use it to make an ontology object\n",
    "from ontobio.ontol_factory import OntologyFactory\n",
    "ofa = OntologyFactory()\n",
    "po = ofa.create('po')"
   ]
  },
  {
   "cell_type": "code",
   "execution_count": 5,
   "metadata": {},
   "outputs": [
    {
     "data": {
      "text/plain": [
       "['PO:0025362', 'PO:0006034', 'PO:0025481', 'PO:0020049', 'PO:0004500']"
      ]
     },
     "execution_count": 5,
     "metadata": {},
     "output_type": "execute_result"
    }
   ],
   "source": [
    "## Node ids matching leaflet\n",
    "po.search('%leaflet%')"
   ]
  },
  {
   "cell_type": "code",
   "execution_count": 7,
   "metadata": {},
   "outputs": [
    {
     "name": "stdout",
     "output_type": "stream",
     "text": [
      " Match: PO:0025362 'leaflet tendril'\n",
      " Match: PO:0006034 'leaflet margin'\n",
      " Match: PO:0025481 'leaflet primordium'\n",
      " Match: PO:0020049 'leaflet'\n",
      " Match: PO:0004500 'formation of vascular leaflet primordia stage'\n"
     ]
    }
   ],
   "source": [
    "## Write id-labels for classes with a label matching 'leaflet'\n",
    "terms = po.search('%leaflet%')\n",
    "for t in terms:\n",
    "    print(\" Match: {id} '{label}'\".format(id=t, label=po.label(t)))"
   ]
  },
  {
   "cell_type": "code",
   "execution_count": 8,
   "metadata": {
    "collapsed": true
   },
   "outputs": [],
   "source": [
    "## Get the PO node for 'leaflet'\n",
    "[leaflet] = po.search('leaflet')"
   ]
  },
  {
   "cell_type": "code",
   "execution_count": 9,
   "metadata": {},
   "outputs": [
    {
     "data": {
      "text/plain": [
       "'PO:0020049'"
      ]
     },
     "execution_count": 9,
     "metadata": {},
     "output_type": "execute_result"
    }
   ],
   "source": [
    "leaflet"
   ]
  },
  {
   "cell_type": "code",
   "execution_count": 10,
   "metadata": {},
   "outputs": [
    {
     "data": {
      "text/plain": [
       "{'PO:0006034', 'PO:0020050', 'PO:0020051', 'PO:0025362'}"
      ]
     },
     "execution_count": 10,
     "metadata": {},
     "output_type": "execute_result"
    }
   ],
   "source": [
    "## Fetch descendants (all relations)\n",
    "po.descendants(leaflet)"
   ]
  },
  {
   "cell_type": "code",
   "execution_count": 11,
   "metadata": {},
   "outputs": [
    {
     "name": "stdout",
     "output_type": "stream",
     "text": [
      " Descendant: PO:0020051 'stipel'\n",
      " Descendant: PO:0006034 'leaflet margin'\n",
      " Descendant: PO:0020050 'petiolule'\n",
      " Descendant: PO:0025362 'leaflet tendril'\n"
     ]
    }
   ],
   "source": [
    "## Write descendants\n",
    "for t in po.descendants(leaflet):\n",
    "    print(\" Descendant: {id} '{label}'\".format(id=t, label=po.label(t)))"
   ]
  },
  {
   "cell_type": "code",
   "execution_count": 12,
   "metadata": {},
   "outputs": [
    {
     "name": "stdout",
     "output_type": "stream",
     "text": [
      " Anc: NCBITaxon:2759 'Eukaryota'\n",
      " Anc: PO:0009007 'portion of plant tissue'\n",
      " Anc: PO:0025034 'leaf'\n",
      " Anc: PO:0000225 'peripheral zone'\n",
      " Anc: PO:0025606 'native plant cell'\n",
      " Anc: PO:0000017 'vascular leaf primordium'\n",
      " Anc: PO:0007033 'whole plant development stage'\n",
      " Anc: PO:0025131 'plant anatomical entity'\n",
      " Anc: PO:0025496 'multi-tissue plant structure'\n",
      " Anc: PO:0000003 'whole plant'\n",
      " Anc: PO:0009025 'vascular leaf'\n",
      " Anc: PO:0025128 'phyllome primordium'\n",
      " Anc: PO:0000037 'shoot apex'\n",
      " Anc: PO:0025029 'shoot axis'\n",
      " Anc: PO:0009011 'plant structure'\n",
      " Anc: PO:0006079 'shoot system meristem'\n",
      " Anc: PO:0025001 'cardinal organ part'\n",
      " Anc: NCBITaxon:131567 'cellular organisms'\n",
      " Anc: PO:0025127 'primordium'\n",
      " Anc: PO:0025004 'plant axis'\n",
      " Anc: PO:0025223 'vegetative shoot apex'\n",
      " Anc: PO:0025431 'vascular leaf anlagen'\n",
      " Anc: PO:0006210 'protoderm'\n",
      " Anc: NCBITaxon:1 'root'\n",
      " Anc: PO:0020148 'shoot apical meristem'\n",
      " Anc: PO:0008016 'vegetative shoot apical meristem'\n",
      " Anc: PO:0009013 'portion of meristem tissue'\n",
      " Anc: PO:0009012 'plant structure development stage'\n",
      " Anc: PO:0004010 'meristematic cell'\n",
      " Anc: PO:0025430 'phyllome anlagen'\n",
      " Anc: PO:0009002 'plant cell'\n",
      " Anc: PO:0006001 'phyllome'\n",
      " Anc: PO:0025497 'collective plant structure'\n",
      " Anc: PO:0020043 'compound leaf'\n",
      " Anc: PO:0025007 'collective plant organ structure'\n",
      " Anc: PO:0025498 'cardinal part of multi-tissue plant structure'\n",
      " Anc: PO:0028002 'sporophyte development stage'\n",
      " Anc: PO:0020144 'apical meristem'\n",
      " Anc: NCBITaxon:33090 'Viridiplantae'\n",
      " Anc: PO:0025337 'life of whole plant stage'\n",
      " Anc: PO:0009006 'shoot system'\n",
      " Anc: PO:0009008 'plant organ'\n"
     ]
    }
   ],
   "source": [
    "## Ancestors of leaflet (all relations)\n",
    "for t in po.ancestors(leaflet):\n",
    "    print(\" Anc: {id} '{label}'\".format(id=t, label=po.label(t)))"
   ]
  },
  {
   "cell_type": "code",
   "execution_count": 13,
   "metadata": {},
   "outputs": [
    {
     "name": "stdout",
     "output_type": "stream",
     "text": [
      " Anc (isa/po): PO:0009011 'plant structure'\n",
      " Anc (isa/po): PO:0025497 'collective plant structure'\n",
      " Anc (isa/po): PO:0006001 'phyllome'\n",
      " Anc (isa/po): PO:0025034 'leaf'\n",
      " Anc (isa/po): PO:0020043 'compound leaf'\n",
      " Anc (isa/po): PO:0025007 'collective plant organ structure'\n",
      " Anc (isa/po): PO:0025498 'cardinal part of multi-tissue plant structure'\n",
      " Anc (isa/po): PO:0025001 'cardinal organ part'\n",
      " Anc (isa/po): PO:0025131 'plant anatomical entity'\n",
      " Anc (isa/po): PO:0025496 'multi-tissue plant structure'\n",
      " Anc (isa/po): PO:0009025 'vascular leaf'\n",
      " Anc (isa/po): PO:0009006 'shoot system'\n",
      " Anc (isa/po): PO:0009008 'plant organ'\n"
     ]
    }
   ],
   "source": [
    "## Ancestors of leaflet (isa/part-of)\n",
    "for t in po.ancestors(leaflet, relations=['subClassOf', 'BFO:0000050']):\n",
    "    print(\" Anc (isa/po): {id} '{label}'\".format(id=t, label=po.label(t)))"
   ]
  },
  {
   "cell_type": "code",
   "execution_count": 19,
   "metadata": {},
   "outputs": [
    {
     "data": {
      "text/plain": [
       "['PO:0000002',\n",
       " 'PO:0000191',\n",
       " 'PO:0000289',\n",
       " 'PO:0001078',\n",
       " 'PO:0001081',\n",
       " 'PO:0001094',\n",
       " 'PO:0001095',\n",
       " 'PO:0001180',\n",
       " 'PO:0001185',\n",
       " 'PO:0004507',\n",
       " 'PO:0004700',\n",
       " 'PO:0005360',\n",
       " 'PO:0006006',\n",
       " 'PO:0006007',\n",
       " 'PO:0006008',\n",
       " 'PO:0006009',\n",
       " 'PO:0006321',\n",
       " 'PO:0006324',\n",
       " 'PO:0006340',\n",
       " 'PO:0006342',\n",
       " 'PO:0007010',\n",
       " 'PO:0007016',\n",
       " 'PO:0007024',\n",
       " 'PO:0007026',\n",
       " 'PO:0007042',\n",
       " 'PO:0007047',\n",
       " 'PO:0007052',\n",
       " 'PO:0007053',\n",
       " 'PO:0007615',\n",
       " 'PO:0007616',\n",
       " 'PO:0007631',\n",
       " 'PO:0008001',\n",
       " 'PO:0008002',\n",
       " 'PO:0008018',\n",
       " 'PO:0009001',\n",
       " 'PO:0009005',\n",
       " 'PO:0009010',\n",
       " 'PO:0009025',\n",
       " 'PO:0009032',\n",
       " 'PO:0009046',\n",
       " 'PO:0009049',\n",
       " 'PO:0009052',\n",
       " 'PO:0009053',\n",
       " 'PO:0009069',\n",
       " 'PO:0009070',\n",
       " 'PO:0009071',\n",
       " 'PO:0009072',\n",
       " 'PO:0009081',\n",
       " 'PO:0009101',\n",
       " 'PO:0020002',\n",
       " 'PO:0020004',\n",
       " 'PO:0020028',\n",
       " 'PO:0020096',\n",
       " 'PO:0020097',\n",
       " 'PO:0020103',\n",
       " 'PO:0020109',\n",
       " 'PO:0020121',\n",
       " 'PO:0020122',\n",
       " 'PO:0025029',\n",
       " 'PO:0025074',\n",
       " 'PO:0025104',\n",
       " 'PO:0025121',\n",
       " 'PO:0025123',\n",
       " 'PO:0025240',\n",
       " 'PO:0025241',\n",
       " 'PO:0025281',\n",
       " 'PO:0025377',\n",
       " 'PO:0025474',\n",
       " 'PO:0025477',\n",
       " 'PO:0025490',\n",
       " 'PO:0025500',\n",
       " 'PO:0025611',\n",
       " 'PO:0006339']"
      ]
     },
     "execution_count": 19,
     "metadata": {},
     "output_type": "execute_result"
    }
   ],
   "source": [
    "## Get all terms in a subset (slim)\n",
    "po.extract_subset('Angiosperm')"
   ]
  },
  {
   "cell_type": "code",
   "execution_count": 21,
   "metadata": {
    "collapsed": true
   },
   "outputs": [],
   "source": [
    "## Create a sub-ontology\n",
    "## This sub-ontology matches the selected slim\n",
    "angiosperm = po.subontology(po.extract_subset('Angiosperm'), relations=['subClassOf', 'BFO:0000050'])"
   ]
  },
  {
   "cell_type": "code",
   "execution_count": 23,
   "metadata": {},
   "outputs": [
    {
     "name": "stdout",
     "output_type": "stream",
     "text": [
      ". PO:0009001 ! fruit\n",
      " < PO:0008001 ! fruit distal end\n",
      " < PO:0008002 ! fruit proximal end\n",
      "\n",
      ". PO:0007631 ! plant embryo development stage\n",
      " % PO:0001078 ! plant embryo cotyledonary stage\n",
      " % PO:0001095 ! plant embryo true leaf formation stage\n",
      " % PO:0001081 ! mature plant embryo stage\n",
      "  % PO:0025377 ! plant embryo dormant stage\n",
      " % PO:0004507 ! plant embryo bilateral stage\n",
      " % PO:0001180 ! plant proembryo stage\n",
      " % PO:0001185 ! plant embryo globular stage\n",
      " % PO:0001094 ! plant embryo coleoptilar stage\n",
      "\n",
      ". PO:0025281 ! pollen\n",
      " < PO:0025121 ! pollen sperm cell\n",
      "\n",
      ". PO:0009025 ! vascular leaf\n",
      " % PO:0006339 ! juvenile vascular leaf\n",
      " % PO:0008018 ! transition vascular leaf\n",
      " % PO:0006340 ! adult vascular leaf\n",
      "  % PO:0020103 ! flag leaf\n",
      "\n",
      ". PO:0025029 ! shoot axis\n",
      " % PO:0020122 ! inflorescence axis\n",
      "  % PO:0025104 ! first order inflorescence axis\n",
      "   % PO:0006324 ! first order tassel inflorescence axis\n",
      "  % PO:0009081 ! inflorescence branch\n",
      "   % PO:0006321 ! primary inflorescence branch\n",
      "   % PO:0009052 ! flower pedicel\n",
      " % PO:0009053 ! peduncle\n",
      "\n",
      ". PO:0009005 ! root\n",
      " % PO:0020121 ! lateral root\n",
      "\n",
      ". PO:0007016 ! whole plant flowering stage\n",
      " % PO:0007053 ! FL.02 1/2 of flowers open stage\n",
      " % PO:0007052 ! FL.03 3/4 of flowers open stage\n",
      " % PO:0007024 ! FL.04 end of flowering stage\n",
      " % PO:0007026 ! FL.00 first flower(s) open stage\n",
      "\n",
      ". PO:0006342 ! infructescence\n",
      " < PO:0025241 ! second order infructescence\n",
      "\n",
      ". PO:0025500 ! whole plant fruit development stage\n",
      " % PO:0007042 ! whole plant fruit formation stage\n",
      " % PO:0007010 ! whole plant fruit ripening stage\n",
      "\n",
      ". PO:0009049 ! inflorescence\n",
      " < PO:0020122 ! inflorescence axis\n",
      "  % PO:0025104 ! first order inflorescence axis\n",
      "   % PO:0006324 ! first order tassel inflorescence axis\n",
      "  % PO:0009081 ! inflorescence branch\n",
      "   % PO:0006321 ! primary inflorescence branch\n",
      "   % PO:0009052 ! flower pedicel\n",
      " < PO:0025240 ! second order inflorescence\n",
      "\n",
      ". PO:0000002 ! anther wall\n",
      " < PO:0006007 ! anther wall secondary parietal cell layer\n",
      "  % PO:0006009 ! anther wall outer secondary parietal cell layer\n",
      "  % PO:0006008 ! anther wall inner secondary parietal cell layer\n",
      " < PO:0004700 ! anther wall middle layer\n",
      " < PO:0009071 ! anther wall tapetum\n",
      " < PO:0020004 ! anther wall exothecium\n",
      " < PO:0020002 ! anther wall endothecium\n",
      " < PO:0006006 ! anther wall primary parietal cell layer\n",
      "\n",
      ". PO:0009072 ! plant ovary\n",
      " < PO:0025490 ! plant ovary ovule\n",
      "\n",
      ". PO:0007615 ! flower development stage\n",
      " % PO:0007616 ! flowering stage\n",
      "\n",
      ". PO:0025074 ! embryo sac\n",
      " < PO:0020096 ! egg apparatus\n",
      "  < PO:0025123 ! embryo sac egg cell\n",
      "  < PO:0000191 ! synergid\n",
      "\n",
      "\n"
     ]
    }
   ],
   "source": [
    "## Write out sub-ontology as ascii-tree\n",
    "from ontobio.io.ontol_renderers import GraphRenderer\n",
    "w = GraphRenderer.create('tree')\n",
    "w.write(angiosperm)"
   ]
  },
  {
   "cell_type": "code",
   "execution_count": 24,
   "metadata": {
    "collapsed": true
   },
   "outputs": [],
   "source": [
    "## Write as png\n",
    "## (requires obographviz from npm)\n",
    "w = GraphRenderer.create('png')\n",
    "w.outfile = 'output/angiosperm.png'\n",
    "w.write(angiosperm)"
   ]
  },
  {
   "cell_type": "markdown",
   "metadata": {},
   "source": [
    "![img](output/angiosperm.png)"
   ]
  }
 ],
 "metadata": {
  "kernelspec": {
   "display_name": "Python 3",
   "language": "python",
   "name": "python3"
  },
  "language_info": {
   "codemirror_mode": {
    "name": "ipython",
    "version": 3
   },
   "file_extension": ".py",
   "mimetype": "text/x-python",
   "name": "python",
   "nbconvert_exporter": "python",
   "pygments_lexer": "ipython3",
   "version": "3.5.2"
  }
 },
 "nbformat": 4,
 "nbformat_minor": 2
}
