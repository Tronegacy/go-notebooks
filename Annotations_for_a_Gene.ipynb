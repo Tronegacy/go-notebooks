{
 "cells": [
  {
   "cell_type": "markdown",
   "metadata": {},
   "source": [
    "## Basic querying of GO\n",
    "\n",
    "See https://github.com/geneontology/helpdesk/issues/22\n",
    "\n"
   ]
  },
  {
   "cell_type": "code",
   "execution_count": 2,
   "metadata": {},
   "outputs": [],
   "source": [
    "## Create an ontology factory and use it to make an ontology object\n",
    "from ontobio.ontol_factory import OntologyFactory\n",
    "ofa = OntologyFactory()\n",
    "ont = ofa.create('go')"
   ]
  },
  {
   "cell_type": "code",
   "execution_count": 4,
   "metadata": {},
   "outputs": [],
   "source": [
    "## Create an association factory to get mouse gene-expression associations (sourced from bgeedb)\n",
    "from ontobio.assoc_factory import AssociationSetFactory\n",
    "afactory = AssociationSetFactory()\n",
    "aset = afactory.create(ontology=ont, subject_category='gene', object_category='function', taxon='NCBITaxon:4896')"
   ]
  },
  {
   "cell_type": "code",
   "execution_count": 7,
   "metadata": {},
   "outputs": [
    {
     "name": "stdout",
     "output_type": "stream",
     "text": [
      " Annotation: GO:0097472 'cyclin-dependent protein kinase activity'\n",
      " Annotation: GO:0000775 'chromosome, centromeric region'\n",
      " Annotation: GO:1905168 'positive regulation of double-strand break repair via homologous recombination'\n",
      " Annotation: GO:1903465 'positive regulation of mitotic cell cycle DNA replication'\n",
      " Annotation: GO:0010971 'positive regulation of G2/M transition of mitotic cell cycle'\n",
      " Annotation: GO:1903467 'negative regulation of mitotic DNA replication initiation'\n",
      " Annotation: GO:0045842 'positive regulation of mitotic metaphase/anaphase transition'\n",
      " Annotation: GO:0031031 'positive regulation of septation initiation signaling'\n",
      " Annotation: GO:1902424 'negative regulation of attachment of mitotic spindle microtubules to kinetochore'\n",
      " Annotation: GO:1900087 'positive regulation of G1/S transition of mitotic cell cycle'\n",
      " Annotation: GO:0044732 'mitotic spindle pole body'\n",
      " Annotation: GO:0035974 'meiotic spindle pole body'\n",
      " Annotation: GO:1990820 'response to mitotic DNA integrity checkpoint signaling'\n",
      " Annotation: GO:0005829 'cytosol'\n",
      " Annotation: GO:0005515 'protein binding'\n",
      " Annotation: GO:0005737 'cytoplasm'\n",
      " Annotation: GO:0007089 'traversing start control point of mitotic cell cycle'\n",
      " Annotation: GO:0072435 'response to mitotic G2 DNA damage checkpoint signaling'\n",
      " Annotation: GO:0051445 'regulation of meiotic cell cycle'\n",
      " Annotation: GO:2001033 'negative regulation of double-strand break repair via nonhomologous end joining'\n",
      " Annotation: GO:0005634 'nucleus'\n",
      " Annotation: GO:0000790 'nuclear chromatin'\n",
      " Annotation: GO:0005524 'ATP binding'\n",
      " Annotation: GO:0008361 'regulation of cell size'\n",
      " Annotation: GO:0000307 'cyclin-dependent protein kinase holoenzyme complex'\n",
      " Annotation: GO:1902845 'negative regulation of mitotic spindle elongation'\n",
      " Annotation: GO:0004674 'protein serine/threonine kinase activity'\n",
      " Annotation: GO:0010389 'regulation of G2/M transition of mitotic cell cycle'\n",
      " Annotation: GO:0001100 'negative regulation of exit from mitosis'\n",
      " Annotation: GO:0072686 'mitotic spindle'\n",
      " Annotation: GO:0004693 'cyclin-dependent protein serine/threonine kinase activity'\n",
      " Annotation: GO:1903380 'positive regulation of mitotic chromosome condensation'\n",
      " Annotation: GO:0072429 'response to intra-S DNA damage checkpoint signaling'\n",
      " Annotation: GO:0072434 'signal transduction involved in mitotic G2 DNA damage checkpoint'\n",
      " Annotation: GO:0098783 'correction of merotelic kinetochore attachment, mitotic'\n",
      " Annotation: GO:0031138 'negative regulation of conjugation with cellular fusion'\n",
      " Annotation: GO:1904537 'negative regulation of mitotic telomere tethering at nuclear periphery'\n",
      " Annotation: GO:1905785 'negative regulation of anaphase-promoting complex-dependent catabolic process'\n",
      " Annotation: GO:1990023 'mitotic spindle midzone'\n",
      " Annotation: GO:0004672 'protein kinase activity'\n"
     ]
    }
   ],
   "source": [
    "CDC2 = 'PomBase:SPBC11B10.09'\n",
    "## Write id-labels for annotations to CDC2\n",
    "terms = aset.annotations(CDC2)\n",
    "for t in terms:\n",
    "    print(\" Annotation: {id} '{label}'\".format(id=t, label=ont.label(t)))"
   ]
  }
 ],
 "metadata": {
  "kernelspec": {
   "display_name": "Python 3",
   "language": "python",
   "name": "python3"
  },
  "language_info": {
   "codemirror_mode": {
    "name": "ipython",
    "version": 3
   },
   "file_extension": ".py",
   "mimetype": "text/x-python",
   "name": "python",
   "nbconvert_exporter": "python",
   "pygments_lexer": "ipython3",
   "version": "3.5.2"
  }
 },
 "nbformat": 4,
 "nbformat_minor": 2
}
