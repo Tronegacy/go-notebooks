{
 "cells": [
  {
   "cell_type": "markdown",
   "metadata": {},
   "source": [
    "In this notebook we will look at the overlap in query results investigating genes that correspond to an intuitive notion of 'cell suface receptor'"
   ]
  },
  {
   "cell_type": "code",
   "execution_count": 1,
   "metadata": {},
   "outputs": [
    {
     "name": "stderr",
     "output_type": "stream",
     "text": [
      "/Users/cjm/repos/go-notebooks/venv/lib/python3.6/site-packages/cachier/mongo_core.py:24: UserWarning: Cachier warning: pymongo was not found. MongoDB cores will not work.\n",
      "  \"Cachier warning: pymongo was not found. MongoDB cores will not work.\")\n"
     ]
    }
   ],
   "source": [
    "## Create a GO ontology object\n",
    "from ontobio.ontol_factory import OntologyFactory\n",
    "ofa = OntologyFactory()\n",
    "ont = ofa.create('go')"
   ]
  },
  {
   "cell_type": "code",
   "execution_count": 29,
   "metadata": {},
   "outputs": [
    {
     "name": "stdout",
     "output_type": "stream",
     "text": [
      "external side of plasma membrane ['GO:0009897']\n",
      "    http://amigo.geneontology.org/amigo/term/GO:0009897\n",
      "plasma membrane receptor complex ['GO:0098802']\n",
      "    http://amigo.geneontology.org/amigo/term/GO:0098802\n",
      "plasma membrane AND receptor activity ['GO:0005886', 'GO:0004872']\n",
      "    http://amigo.geneontology.org/amigo/term/GO:0005886\n",
      "    http://amigo.geneontology.org/amigo/term/GO:0004872\n"
     ]
    }
   ],
   "source": [
    "## This value can be altered - we will look at mouse genes to begin with\n",
    "taxon = 'NCBITaxon:10090'\n",
    "\n",
    "## We will explore the overlap between 3 queries.\n",
    "## Two are simple single-term queries, the last is\n",
    "## an intersection query\n",
    "m = {\n",
    "    'external side of plasma membrane': ['GO:0009897'],\n",
    "    'plasma membrane receptor complex': ['GO:0098802'],\n",
    "    'plasma membrane AND receptor activity': ['GO:0005886', 'GO:0004872']\n",
    "}\n",
    "\n",
    "# print links to amigo pages for each term,\n",
    "# this is just to allow the person viewing the notebook to explore\n",
    "# further on their own\n",
    "for n,cs in m.items():\n",
    "    print(\"{} {}\".format(n,cs))\n",
    "    for c in cs:\n",
    "        print(\"    http://amigo.geneontology.org/amigo/term/{}\".format(c))"
   ]
  },
  {
   "cell_type": "code",
   "execution_count": 5,
   "metadata": {},
   "outputs": [
    {
     "name": "stderr",
     "output_type": "stream",
     "text": [
      "WARNING:root:>1 relation: ['not', 'colocalizes_with']\n",
      "WARNING:root:>1 relation: ['not', 'contributes_to']\n",
      "WARNING:root:>1 relation: ['not', 'colocalizes_with']\n",
      "WARNING:root:>1 relation: ['not', 'colocalizes_with']\n",
      "WARNING:root:>1 relation: ['not', 'colocalizes_with']\n",
      "WARNING:root:>1 relation: ['not', 'colocalizes_with']\n"
     ]
    }
   ],
   "source": [
    "## Fetch GO associations for taxon of interest\n",
    "from ontobio.assoc_factory import AssociationSetFactory\n",
    "afactory = AssociationSetFactory()\n",
    "aset = afactory.create(ontology=ont, subject_category='gene', object_category='function', taxon=taxon)"
   ]
  },
  {
   "cell_type": "code",
   "execution_count": 30,
   "metadata": {},
   "outputs": [],
   "source": [
    "## create list of sets and their labels for the venn diagram\n",
    "sets = []\n",
    "setlabels = []\n",
    "for n,cs in m.items():\n",
    "    genes = aset.query(cs)\n",
    "    sets.append(set(genes))\n",
    "    setlabels.append(n)\n",
    "    "
   ]
  },
  {
   "cell_type": "code",
   "execution_count": 24,
   "metadata": {},
   "outputs": [],
   "source": [
    "import matplotlib.pyplot as plt\n",
    "%matplotlib inline\n",
    "from matplotlib_venn import venn3, venn2\n"
   ]
  },
  {
   "cell_type": "code",
   "execution_count": 31,
   "metadata": {},
   "outputs": [
    {
     "data": {
      "text/plain": [
       "<matplotlib_venn._common.VennDiagram at 0x14b9edc50>"
      ]
     },
     "execution_count": 31,
     "metadata": {},
     "output_type": "execute_result"
    },
    {
     "data": {
      "image/png": "[encoded data removed]",
      "text/plain": [
       "<matplotlib.figure.Figure at 0x14ba9dfd0>"
      ]
     },
     "metadata": {},
     "output_type": "display_data"
    }
   ],
   "source": [
    "## Technically an Euler diagram...\n",
    "venn3(sets, tuple(setlabels))"
   ]
  },
  {
   "cell_type": "code",
   "execution_count": null,
   "metadata": {},
   "outputs": [],
   "source": []
  }
 ],
 "metadata": {
  "kernelspec": {
   "display_name": "Python 3",
   "language": "python",
   "name": "python3"
  },
  "language_info": {
   "codemirror_mode": {
    "name": "ipython",
    "version": 3
   },
   "file_extension": ".py",
   "mimetype": "text/x-python",
   "name": "python",
   "nbconvert_exporter": "python",
   "pygments_lexer": "ipython3",
   "version": "3.6.2"
  }
 },
 "nbformat": 4,
 "nbformat_minor": 2
}
